{
 "cells": [
  {
   "cell_type": "code",
   "execution_count": 1,
   "metadata": {},
   "outputs": [
    {
     "name": "stdout",
     "output_type": "stream",
     "text": [
      "2 0 5\n"
     ]
    },
    {
     "data": {
      "text/plain": [
       "[102, 100, 105]"
      ]
     },
     "execution_count": 1,
     "metadata": {},
     "output_type": "execute_result"
    }
   ],
   "source": [
    "a=input().split()\n",
    "fn=lambda a:int(a)+100\n",
    "list(map(fn,a))"
   ]
  },
  {
   "cell_type": "code",
   "execution_count": 2,
   "metadata": {},
   "outputs": [],
   "source": [
    "#multiply_ints(a,b)=lambda:a*b"
   ]
  },
  {
   "cell_type": "code",
   "execution_count": 4,
   "metadata": {},
   "outputs": [],
   "source": [
    "#@multiply_ints\n",
    "#ef add_ints(a,b):\n",
    "    #return a+b"
   ]
  },
  {
   "cell_type": "code",
   "execution_count": 26,
   "metadata": {},
   "outputs": [],
   "source": [
    "def zxc(func):\n",
    "    def abc(a,b):\n",
    "        result=func(a,b)\n",
    "        print('add_ints:',result)\n",
    "        return ('multiply_ints:',a*b)\n",
    "    return abc"
   ]
  },
  {
   "cell_type": "code",
   "execution_count": 27,
   "metadata": {},
   "outputs": [],
   "source": [
    "@zxc\n",
    "def add_ints(a,b):\n",
    "    return (a+b)"
   ]
  },
  {
   "cell_type": "code",
   "execution_count": 28,
   "metadata": {},
   "outputs": [
    {
     "name": "stdout",
     "output_type": "stream",
     "text": [
      "add_ints: 12\n"
     ]
    },
    {
     "data": {
      "text/plain": [
       "('multiply_ints:', 20)"
      ]
     },
     "execution_count": 28,
     "metadata": {},
     "output_type": "execute_result"
    }
   ],
   "source": [
    "add_ints(2,10)"
   ]
  },
  {
   "cell_type": "code",
   "execution_count": 1,
   "metadata": {},
   "outputs": [
    {
     "name": "stdout",
     "output_type": "stream",
     "text": [
      "123\n"
     ]
    }
   ],
   "source": [
    "www=input()\n",
    "try:\n",
    "    int(www)%1==0    \n",
    "except:\n",
    "    print('出錯，請重新輸入')\n",
    "else:\n",
    "    www"
   ]
  },
  {
   "cell_type": "code",
   "execution_count": null,
   "metadata": {},
   "outputs": [],
   "source": [
    "from sources import calculator as c\n",
    "y=input()\n",
    "a=list(y)\n",
    "if '+' in a:\n",
    "    x=y.split('+')\n",
    "if '-' in a:\n",
    "    x=y.split('-')\n",
    "if '*' in a:\n",
    "    x=y.split('*')\n",
    "if '/' in a:\n",
    "    x=y.split('/')\n",
    "\n",
    "if '+' in a:\n",
    "    print(c.calculator(x[0] ,x[1] , c.func_add))\n",
    "if '-' in a:\n",
    "    print(c.calculator(x[0],x[1],c.func_minus))\n",
    "if '*' in a:\n",
    "    print(c.calculator(x[0],x[1],c.func_cross))\n",
    "if '/' in a:\n",
    "    print(c.calculator(x[0],x[1],c.func_div))"
   ]
  }
 ],
 "metadata": {
  "kernelspec": {
   "display_name": "Python 3",
   "language": "python",
   "name": "python3"
  },
  "language_info": {
   "codemirror_mode": {
    "name": "ipython",
    "version": 3
   },
   "file_extension": ".py",
   "mimetype": "text/x-python",
   "name": "python",
   "nbconvert_exporter": "python",
   "pygments_lexer": "ipython3",
   "version": "3.6.4"
  }
 },
 "nbformat": 4,
 "nbformat_minor": 2
}
